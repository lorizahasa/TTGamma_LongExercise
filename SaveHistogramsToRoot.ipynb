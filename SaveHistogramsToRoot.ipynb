{
 "cells": [
  {
   "cell_type": "markdown",
   "metadata": {},
   "source": [
    "Load coffea output files"
   ]
  },
  {
   "cell_type": "code",
   "execution_count": 1,
   "metadata": {},
   "outputs": [
    {
     "name": "stderr",
     "output_type": "stream",
     "text": [
      "/uscms/home/lhasa/nobackup/TTGamma_LongExercise/ttgenv/lib/python3.6/site-packages/uproot3/__init__.py:138: FutureWarning: Consider switching from 'uproot3' to 'uproot', since the new interface became the default in 2020.\n",
      "\n",
      "    pip install -U uproot\n",
      "\n",
      "In Python:\n",
      "\n",
      "    >>> import uproot\n",
      "    >>> with uproot.open(...) as file:\n",
      "    ...\n",
      "\n",
      "  FutureWarning\n"
     ]
    }
   ],
   "source": [
    "from coffea import hist, util\n",
    "import numpy as np\n",
    "import uproot3 as uproot\n",
    "\n",
    "from ttgamma.utils.plotting import RebinHist, SetRangeHist"
   ]
  },
  {
   "cell_type": "code",
   "execution_count": 5,
   "metadata": {},
   "outputs": [],
   "source": [
    "!mkdir RootFiles"
   ]
  },
  {
   "cell_type": "code",
   "execution_count": 6,
   "metadata": {},
   "outputs": [],
   "source": [
    "nJets = 4\n",
    "\n",
    "outputMC = util.load(f'Outputs/outputMCOther_ttgamma_condorFull_{nJets}jet.coffea')\n",
    "outputMC.add(util.load(f'Outputs/outputMCSingleTop_ttgamma_condorFull_{nJets}jet.coffea'))\n",
    "outputMC.add(util.load(f'Outputs/outputMCTTbar1l_ttgamma_condorFull_{nJets}jet.coffea'))\n",
    "outputMC.add(util.load(f'Outputs/outputMCTTbar2l_ttgamma_condorFull_{nJets}jet.coffea'))\n",
    "outputMC.add(util.load(f'Outputs/outputMCTTGamma_ttgamma_condorFull_{nJets}jet.coffea'))\n",
    "outputMC.add(util.load(f'Outputs/outputMCWJets_ttgamma_condorFull_{nJets}jet.coffea'))\n",
    "outputMC.add(util.load(f'Outputs/outputMCZJets_ttgamma_condorFull_{nJets}jet.coffea'))\n",
    "\n",
    "outputData = util.load(f'Outputs/outputData_ttgamma_condorFull_{nJets}jet.coffea')"
   ]
  },
  {
   "cell_type": "markdown",
   "metadata": {},
   "source": [
    "Get M3 distributions, grouped into top and non-top categories, saving to a root file"
   ]
  },
  {
   "cell_type": "code",
   "execution_count": 15,
   "metadata": {},
   "outputs": [],
   "source": [
    "groupingTop = {'TopPair': ['TTGamma_Dilepton','TTGamma_SingleLept','TTGamma_Hadronic',\n",
    "                           'TTbarPowheg_Dilepton', 'TTbarPowheg_Semilept', 'TTbarPowheg_Hadronic'],\n",
    "               'NonTop' : ['W1jets', 'W2jets', 'W3jets', 'W4jets',\n",
    "                           'DYjetsM10to50', 'DYjetsM50'\n",
    "                           'ST_s_channel', 'ST_tW_channel', 'ST_tbarW_channel', 'ST_tbar_channel', 'ST_t_channel',\n",
    "                           'WGamma',\n",
    "                           'ZGamma_01J_5f_lowMass',\n",
    "                           'TTWtoLNu','TTWtoQQ','TTZtoLL',\n",
    "                           'GJets_HT40To100', 'GJets_HT100To200', 'GJets_HT200To400', 'GJets_HT400To600', 'GJets_HT600ToInf', \n",
    "#                           'QCD_Pt20to30_Ele', 'QCD_Pt30to50_Ele', 'QCD_Pt50to80_Ele', 'QCD_Pt80to120_Ele', 'QCD_Pt120to170_Ele', 'QCD_Pt170to300_Ele', 'QCD_Pt300toInf_Ele', 'QCD_Pt20to30_Mu', 'QCD_Pt30to50_Mu', 'QCD_Pt50to80_Mu', 'QCD_Pt80to120_Mu', 'QCD_Pt120to170_Mu', 'QCD_Pt170to300_Mu', 'QCD_Pt300to470_Mu', 'QCD_Pt470to600_Mu', 'QCD_Pt600to800_Mu', 'QCD_Pt800to1000_Mu', 'QCD_Pt1000toInf_Mu'\n",
    "                          ],\n",
    "              }\n",
    "\n",
    "\n",
    "h = outputMC['M3'].sum('lepFlavor')\n",
    "h = h.group('dataset',hist.Cat(r'dataset',r'Samples',sorting='placement'),groupingTop)\n",
    "h = h.sum('category')\n",
    "h = RebinHist(h,\"M3\",5)\n",
    "h = SetRangeHist(h,\"M3\",50,550)\n",
    "\n",
    "hData = outputData['M3'].sum('lepFlavor')\n",
    "hData = hData.sum('dataset')\n",
    "hData = hData.sum('category')\n",
    "hData = hData.sum('systematic')\n",
    "hData = RebinHist(hData,\"M3\",5)\n",
    "hData = SetRangeHist(hData,\"M3\",50,550)\n",
    "        \n",
    "outputFile = uproot.recreate(\"RootFiles/M3_Output.root\")\n",
    "\n",
    "outputFile['dataObs'] = hist.export1d(hData)\n",
    "\n",
    "datasets = h.axis('dataset').identifiers()\n",
    "systematics = h.axis('systematic').identifiers()\n",
    "for _dataset in datasets:\n",
    "    for _systematic in systematics:\n",
    "        outputFile[f'{_dataset}_{_systematic}'] = hist.export1d(h.integrate('dataset',_dataset).integrate('systematic',_systematic))\n",
    "\n",
    "outputFile.close()"
   ]
  },
  {
   "cell_type": "markdown",
   "metadata": {},
   "source": [
    "Get photon charged hadron isolation distributions, grouped into isolated and nonprompt categories, saving to a root file"
   ]
  },
  {
   "cell_type": "code",
   "execution_count": 16,
   "metadata": {},
   "outputs": [],
   "source": [
    "groupingPho= {\"Isolated\": slice(1,3),\n",
    "              \"NonPrompt\":slice(3,5),\n",
    "             }\n",
    "bins = np.array([0,1,2.5,4.9,9.9,14.9,20],dtype=np.float)\n",
    "#bins = np.array([0,1.141,2.5,5,10,15,20])\n",
    "\n",
    "h = outputMC['photon_chIso'].sum('lepFlavor')\n",
    "h = h.group('category',hist.Cat(r'category',r'Samples',sorting='placement'),groupingPho)\n",
    "h = h.sum('dataset')\n",
    "h = h.rebin(\"chIso\",hist.Bin(\"chIso\",h.axis(\"chIso\").label,bins))\n",
    "\n",
    "hData = outputData['photon_chIso'].sum('lepFlavor')\n",
    "hData = hData.sum('dataset')\n",
    "hData = hData.sum('category')\n",
    "hData = hData.sum('systematic')\n",
    "hData = hData.rebin(\"chIso\",hist.Bin(\"chIso\",hData.axis(\"chIso\").label,bins))\n",
    "\n",
    "outputFile = uproot.recreate(\"RootFiles/Isolation_Output.root\")\n",
    "outputFile['dataObs'] = hist.export1d(hData)\n",
    "\n",
    "categories = h.axis('category').identifiers()\n",
    "systematics = h.axis('systematic').identifiers()\n",
    "for _category in categories:\n",
    "    for _systematic in systematics:\n",
    "        outputFile[f'{_category}_{_systematic}'] = hist.export1d(h.integrate('category',_category).integrate('systematic',_systematic))\n",
    "    \n",
    "outputFile.close()"
   ]
  },
  {
   "cell_type": "markdown",
   "metadata": {},
   "source": [
    "Save distributions of e-gamma mass"
   ]
  },
  {
   "cell_type": "code",
   "execution_count": 17,
   "metadata": {},
   "outputs": [],
   "source": [
    "\n",
    "groupingDataset = {'WGamma' : ['WGamma'],\n",
    "                   \"ZGamma\" : ['ZGamma_01J_5f_lowMass'],\n",
    "                   \"Other\"  : ['TTGamma_Dilepton','TTGamma_SingleLept','TTGamma_Hadronic',\n",
    "                               'TTbarPowheg_Dilepton', 'TTbarPowheg_Semilept', 'TTbarPowheg_Hadronic',\n",
    "                               'W1jets', 'W2jets', 'W3jets', 'W4jets',\n",
    "                               'DYjetsM50', 'DYjetsM10to50',\n",
    "                               'ST_s_channel', 'ST_tW_channel', 'ST_tbarW_channel', 'ST_tbar_channel', 'ST_t_channel',\n",
    "                               'TTWtoLNu','TTWtoQQ','TTZtoLL',\n",
    "                              ],\n",
    "                  }\n",
    "\n",
    "groupingPho= {\"Genuine\":slice(1,2),\n",
    "              \"MisIDele\": slice(2,3),\n",
    "              \"NonPrompt\":slice(3,5),\n",
    "             }\n",
    "\n",
    "\n",
    "h = outputMC['photon_lepton_mass_3j0t']\n",
    "h = h.group('category',hist.Cat(r'category',r'Samples',sorting='placement'),groupingPho)\n",
    "h = h.group('dataset',hist.Cat(r'dataset',r'Samples',sorting='placement'),groupingDataset)\n",
    "h = RebinHist(h,\"mass\",5)\n",
    "h = SetRangeHist(h,\"mass\",40,200)\n",
    "\n",
    "hData = outputData['photon_lepton_mass_3j0t']\n",
    "hData = hData.sum('dataset')\n",
    "hData = hData.sum('category')\n",
    "hData = hData.sum('systematic')\n",
    "hData = RebinHist(hData,\"mass\",5)\n",
    "hData = SetRangeHist(hData,\"mass\",40,200)\n",
    "\n",
    "\n",
    "\n",
    "systematics = h.axis('systematic').identifiers()\n",
    "\n",
    "for _lepton in ['electron','muon']:\n",
    "    outputFile = uproot.recreate(f\"RootFiles/MisID_Output_{_lepton}.root\")\n",
    "\n",
    "    outputFile[\"dataObs\"] = hist.export1d(hData.integrate(\"lepFlavor\",_lepton))\n",
    "\n",
    "    hMisID = h.integrate(\"category\",\"MisIDele\").sum(\"dataset\").integrate(\"lepFlavor\",_lepton)\n",
    "    hOther = h.integrate(\"category\",[\"Genuine\",\"NonPrompt\"]).integrate(\"lepFlavor\",_lepton)\n",
    "    datasets = hOther.axis('dataset').identifiers()\n",
    "\n",
    "    for _systematic in systematics:\n",
    "        outputFile[f'MisIDele_{_systematic}'] = hist.export1d(hMisID.integrate('systematic',_systematic))\n",
    "        for _dataset in datasets:\n",
    "            outputFile[f'{_dataset}_{_systematic}'] =  hist.export1d(hOther.integrate(\"dataset\",_dataset).integrate('systematic',_systematic))\n",
    "\n",
    "    \n",
    "    outputFile.close()"
   ]
  },
  {
   "cell_type": "code",
   "execution_count": 18,
   "metadata": {},
   "outputs": [
    {
     "data": {
      "text/plain": [
       "[<StringBin (DYjetsM10to50) instance at 0x7fcc28aa4e10>,\n",
       " <StringBin (DYjetsM50) instance at 0x7fcc280f5c50>,\n",
       " <StringBin (GJets_HT100To200) instance at 0x7fcc282eb710>,\n",
       " <StringBin (GJets_HT200To400) instance at 0x7fcc282eb6d8>,\n",
       " <StringBin (GJets_HT400To600) instance at 0x7fcc282eb828>,\n",
       " <StringBin (GJets_HT40To100) instance at 0x7fcc282eb7b8>,\n",
       " <StringBin (GJets_HT600ToInf) instance at 0x7fcc282eb780>,\n",
       " <StringBin (QCD_Pt1000toInf_Mu) instance at 0x7fcc282eb588>,\n",
       " <StringBin (QCD_Pt120to170_Ele) instance at 0x7fcc282eb4e0>,\n",
       " <StringBin (QCD_Pt120to170_Mu) instance at 0x7fcc282eb668>,\n",
       " <StringBin (QCD_Pt170to300_Ele) instance at 0x7fcc282eb4a8>,\n",
       " <StringBin (QCD_Pt170to300_Mu) instance at 0x7fcc282ebac8>,\n",
       " <StringBin (QCD_Pt20to30_Ele) instance at 0x7fcc282eb8d0>,\n",
       " <StringBin (QCD_Pt20to30_Mu) instance at 0x7fcc282eb9b0>,\n",
       " <StringBin (QCD_Pt300to470_Mu) instance at 0x7fcc282ebf28>,\n",
       " <StringBin (QCD_Pt300toInf_Ele) instance at 0x7fcc282ebe80>,\n",
       " <StringBin (QCD_Pt30to50_Ele) instance at 0x7fcc282ebfd0>,\n",
       " <StringBin (QCD_Pt30to50_Mu) instance at 0x7fcc282ebf98>,\n",
       " <StringBin (QCD_Pt470to600_Mu) instance at 0x7fcc282ebe48>,\n",
       " <StringBin (QCD_Pt50to80_Ele) instance at 0x7fcc282eb5c0>,\n",
       " <StringBin (QCD_Pt50to80_Mu) instance at 0x7fcc282ebe10>,\n",
       " <StringBin (QCD_Pt600to800_Mu) instance at 0x7fcc282eb630>,\n",
       " <StringBin (QCD_Pt800to1000_Mu) instance at 0x7fcc282ebef0>,\n",
       " <StringBin (QCD_Pt80to120_Ele) instance at 0x7fcc282ebeb8>,\n",
       " <StringBin (QCD_Pt80to120_Mu) instance at 0x7fcc282ebf60>,\n",
       " <StringBin (ST_s_channel) instance at 0x7fcc27b1c9b0>,\n",
       " <StringBin (ST_tW_channel) instance at 0x7fcc27ff7160>,\n",
       " <StringBin (ST_t_channel) instance at 0x7fcc28314eb8>,\n",
       " <StringBin (ST_tbarW_channel) instance at 0x7fcc28314d30>,\n",
       " <StringBin (ST_tbar_channel) instance at 0x7fcc28310828>,\n",
       " <StringBin (TGJets) instance at 0x7fcc282ebdd8>,\n",
       " <StringBin (TTGamma_Dilepton) instance at 0x7fcc280f5c18>,\n",
       " <StringBin (TTGamma_Hadronic) instance at 0x7fcc28314dd8>,\n",
       " <StringBin (TTGamma_SingleLept) instance at 0x7fcc27ff71d0>,\n",
       " <StringBin (TTWtoLNu) instance at 0x7fcc282ebc88>,\n",
       " <StringBin (TTWtoQQ) instance at 0x7fcc282ebbe0>,\n",
       " <StringBin (TTZtoLL) instance at 0x7fcc282ebcf8>,\n",
       " <StringBin (TTbarPowheg_Dilepton) instance at 0x7fcc3152b400>,\n",
       " <StringBin (TTbarPowheg_Hadronic) instance at 0x7fcc27a14ef0>,\n",
       " <StringBin (TTbarPowheg_Semilept) instance at 0x7fcc28300e80>,\n",
       " <StringBin (W1jets) instance at 0x7fcc27c7e780>,\n",
       " <StringBin (W2jets) instance at 0x7fcc27c7e828>,\n",
       " <StringBin (W3jets) instance at 0x7fcc27c7e0f0>,\n",
       " <StringBin (W4jets) instance at 0x7fcc28aa4f28>,\n",
       " <StringBin (WGamma) instance at 0x7fcc282eb550>,\n",
       " <StringBin (WW) instance at 0x7fcc282eb6a0>,\n",
       " <StringBin (WZ) instance at 0x7fcc282eb5f8>,\n",
       " <StringBin (ZGamma_01J_5f_lowMass) instance at 0x7fcc282ebd68>,\n",
       " <StringBin (ZZ) instance at 0x7fcc282ebcc0>]"
      ]
     },
     "execution_count": 18,
     "metadata": {},
     "output_type": "execute_result"
    }
   ],
   "source": [
    "outputMC['photon_lepton_mass_3j0t'].identifiers('dataset') "
   ]
  },
  {
   "cell_type": "code",
   "execution_count": null,
   "metadata": {},
   "outputs": [],
   "source": []
  }
 ],
 "metadata": {
  "kernelspec": {
   "display_name": "ttgenv",
   "language": "python",
   "name": "ttgenv"
  },
  "language_info": {
   "codemirror_mode": {
    "name": "ipython",
    "version": 3
   },
   "file_extension": ".py",
   "mimetype": "text/x-python",
   "name": "python",
   "nbconvert_exporter": "python",
   "pygments_lexer": "ipython3",
   "version": "3.6.5"
  }
 },
 "nbformat": 4,
 "nbformat_minor": 2
}
